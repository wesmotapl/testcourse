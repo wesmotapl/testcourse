{
 "cells": [
  {
   "cell_type": "markdown",
   "id": "b06c0783-35dd-440c-b2b0-113677ece880",
   "metadata": {},
   "source": [
    "# Data Science Tools and Ecosystem"
   ]
  },
  {
   "cell_type": "markdown",
   "id": "f210b5a4-6c3e-44a5-b8d9-92cd6b364f0b",
   "metadata": {},
   "source": [
    "### In this notebook, Data Science Tools and Ecosystem are summarized."
   ]
  },
  {
   "cell_type": "markdown",
   "id": "39281353-32cf-45c5-bb0c-d2558ef3fa4f",
   "metadata": {},
   "source": [
    "### **Objectives**\n",
    "- List popular languages for Data Science\n",
    "- List commonly used libraries for Data Science\n",
    "- Evaluate arithmetic expressions in Python"
   ]
  },
  {
   "cell_type": "markdown",
   "id": "69909d6f-7ef5-4035-b27c-892ede1c3098",
   "metadata": {},
   "source": [
    "## Author\n",
    "Wesley Mota"
   ]
  },
  {
   "cell_type": "markdown",
   "id": "c27c1560-a2a6-49da-a41f-06e5e7a27c69",
   "metadata": {},
   "source": [
    "### Some of the popular languages that Data Scientists use are:\n",
    "1. Python\n",
    "2. R\n",
    "3. SQL\n",
    "4. Java\n",
    "5. Julia"
   ]
  },
  {
   "cell_type": "markdown",
   "id": "d7a21f7e-fb2b-482f-b9fa-31eddbfa5c95",
   "metadata": {},
   "source": [
    "### Some of the commonly used libraries used by Data Scientists include:\n",
    "1. Pandas\n",
    "2. Matplotlib\n",
    "3. NumPy\n",
    "4. Scikit-learn\n",
    "5. PyTorch"
   ]
  },
  {
   "cell_type": "markdown",
   "id": "c6159751-d8ca-472a-be3e-88bb29bb38c2",
   "metadata": {},
   "source": [
    "| **Data Science Tools** |\n",
    "|------------------------|\n",
    "| Jupyter Notebook |\n",
    "| Anaconda |\n",
    "| RStudio |"
   ]
  },
  {
   "cell_type": "markdown",
   "id": "23d7f0da-4609-441e-9e91-d9ae6a1d4c80",
   "metadata": {},
   "source": [
    "### Below are a few examples of evaluating arithmetic expressions in Python\n",
    " **Addition**  \n",
    "###### Create a variable that will contain the result:\n",
    "result = 1 + 1\n",
    "###### Show the result\n",
    "print(result)\n",
    "\n",
    " **Multiplication**  \n",
    "###### Create a variable that will contain the result:\n",
    "result = 10*10\n",
    "###### Show the result\n",
    "print(result)"
   ]
  },
  {
   "cell_type": "code",
   "execution_count": 3,
   "id": "ff3d5c6b-c6c9-4af0-9ab7-4f9bae1aba91",
   "metadata": {},
   "outputs": [
    {
     "name": "stdout",
     "output_type": "stream",
     "text": [
      "17\n"
     ]
    }
   ],
   "source": [
    "# This a simple arithmetic expression to mutiply then add integers.\n",
    "result=(3*4)+5\n",
    "print(result)"
   ]
  },
  {
   "cell_type": "code",
   "execution_count": 5,
   "id": "23d224f6-adea-4042-83bf-06c884061253",
   "metadata": {},
   "outputs": [
    {
     "name": "stdout",
     "output_type": "stream",
     "text": [
      "3.3333333333333335\n"
     ]
    }
   ],
   "source": [
    "# This will convert 200 minutes to hours by dividing by 60\n",
    "hours=200/60\n",
    "print(hours)"
   ]
  },
  {
   "cell_type": "markdown",
   "id": "8da5d59a-f452-4188-b8df-02f1f7f6a00e",
   "metadata": {},
   "source": []
  }
 ],
 "metadata": {
  "kernelspec": {
   "display_name": "Python 3 (ipykernel)",
   "language": "python",
   "name": "python3"
  },
  "language_info": {
   "codemirror_mode": {
    "name": "ipython",
    "version": 3
   },
   "file_extension": ".py",
   "mimetype": "text/x-python",
   "name": "python",
   "nbconvert_exporter": "python",
   "pygments_lexer": "ipython3",
   "version": "3.12.8"
  }
 },
 "nbformat": 4,
 "nbformat_minor": 5
}
